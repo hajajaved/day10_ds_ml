{
  "nbformat": 4,
  "nbformat_minor": 0,
  "metadata": {
    "colab": {
      "name": "miniproj.ipynb",
      "provenance": [],
      "authorship_tag": "ABX9TyNHHV2GPrL46hy0VkNp86sv",
      "include_colab_link": true
    },
    "kernelspec": {
      "name": "python3",
      "display_name": "Python 3"
    },
    "language_info": {
      "name": "python"
    }
  },
  "cells": [
    {
      "cell_type": "markdown",
      "metadata": {
        "id": "view-in-github",
        "colab_type": "text"
      },
      "source": [
        "<a href=\"https://colab.research.google.com/github/hajajaved/day10_ds_ml/blob/main/miniproj.ipynb\" target=\"_parent\"><img src=\"https://colab.research.google.com/assets/colab-badge.svg\" alt=\"Open In Colab\"/></a>"
      ]
    },
    {
      "cell_type": "code",
      "metadata": {
        "id": "dHQNZM4lG4Zx"
      },
      "source": [
        "import numpy as np\n",
        "import matplotlib.pyplot as plt\n",
        "import pandas as pd"
      ],
      "execution_count": 1,
      "outputs": []
    },
    {
      "cell_type": "code",
      "metadata": {
        "id": "1vTYLG7HHYnl"
      },
      "source": [
        "data = pd.read_csv(\"/content/LungCapData.csv\")"
      ],
      "execution_count": 3,
      "outputs": []
    },
    {
      "cell_type": "code",
      "metadata": {
        "colab": {
          "base_uri": "https://localhost:8080/"
        },
        "id": "CGqOuSM0IAOR",
        "outputId": "c1370d18-bb57-4dc3-9776-c298b0366658"
      },
      "source": [
        "print(data)"
      ],
      "execution_count": 4,
      "outputs": [
        {
          "output_type": "stream",
          "text": [
            "     LungCap  Age  Height Smoke  Gender Caesarean\n",
            "0      6.475    6    62.1    no    male        no\n",
            "1     10.125   18    74.7   yes  female        no\n",
            "2      9.550   16    69.7    no  female       yes\n",
            "3     11.125   14    71.0    no    male        no\n",
            "4      4.800    5    56.9    no    male        no\n",
            "..       ...  ...     ...   ...     ...       ...\n",
            "720    5.725    9    56.0    no  female        no\n",
            "721    9.050   18    72.0   yes    male       yes\n",
            "722    3.850   11    60.5   yes  female        no\n",
            "723    9.825   15    64.9    no  female        no\n",
            "724    7.100   10    67.7    no    male        no\n",
            "\n",
            "[725 rows x 6 columns]\n"
          ],
          "name": "stdout"
        }
      ]
    },
    {
      "cell_type": "code",
      "metadata": {
        "colab": {
          "base_uri": "https://localhost:8080/",
          "height": 357
        },
        "id": "2l9fkUc9ISxC",
        "outputId": "6a2d192a-f5e1-4b06-9fc4-d012772e6ef5"
      },
      "source": [
        "data.head(10)"
      ],
      "execution_count": 5,
      "outputs": [
        {
          "output_type": "execute_result",
          "data": {
            "text/html": [
              "<div>\n",
              "<style scoped>\n",
              "    .dataframe tbody tr th:only-of-type {\n",
              "        vertical-align: middle;\n",
              "    }\n",
              "\n",
              "    .dataframe tbody tr th {\n",
              "        vertical-align: top;\n",
              "    }\n",
              "\n",
              "    .dataframe thead th {\n",
              "        text-align: right;\n",
              "    }\n",
              "</style>\n",
              "<table border=\"1\" class=\"dataframe\">\n",
              "  <thead>\n",
              "    <tr style=\"text-align: right;\">\n",
              "      <th></th>\n",
              "      <th>LungCap</th>\n",
              "      <th>Age</th>\n",
              "      <th>Height</th>\n",
              "      <th>Smoke</th>\n",
              "      <th>Gender</th>\n",
              "      <th>Caesarean</th>\n",
              "    </tr>\n",
              "  </thead>\n",
              "  <tbody>\n",
              "    <tr>\n",
              "      <th>0</th>\n",
              "      <td>6.475</td>\n",
              "      <td>6</td>\n",
              "      <td>62.1</td>\n",
              "      <td>no</td>\n",
              "      <td>male</td>\n",
              "      <td>no</td>\n",
              "    </tr>\n",
              "    <tr>\n",
              "      <th>1</th>\n",
              "      <td>10.125</td>\n",
              "      <td>18</td>\n",
              "      <td>74.7</td>\n",
              "      <td>yes</td>\n",
              "      <td>female</td>\n",
              "      <td>no</td>\n",
              "    </tr>\n",
              "    <tr>\n",
              "      <th>2</th>\n",
              "      <td>9.550</td>\n",
              "      <td>16</td>\n",
              "      <td>69.7</td>\n",
              "      <td>no</td>\n",
              "      <td>female</td>\n",
              "      <td>yes</td>\n",
              "    </tr>\n",
              "    <tr>\n",
              "      <th>3</th>\n",
              "      <td>11.125</td>\n",
              "      <td>14</td>\n",
              "      <td>71.0</td>\n",
              "      <td>no</td>\n",
              "      <td>male</td>\n",
              "      <td>no</td>\n",
              "    </tr>\n",
              "    <tr>\n",
              "      <th>4</th>\n",
              "      <td>4.800</td>\n",
              "      <td>5</td>\n",
              "      <td>56.9</td>\n",
              "      <td>no</td>\n",
              "      <td>male</td>\n",
              "      <td>no</td>\n",
              "    </tr>\n",
              "    <tr>\n",
              "      <th>5</th>\n",
              "      <td>6.225</td>\n",
              "      <td>11</td>\n",
              "      <td>58.7</td>\n",
              "      <td>no</td>\n",
              "      <td>female</td>\n",
              "      <td>no</td>\n",
              "    </tr>\n",
              "    <tr>\n",
              "      <th>6</th>\n",
              "      <td>4.950</td>\n",
              "      <td>8</td>\n",
              "      <td>63.3</td>\n",
              "      <td>no</td>\n",
              "      <td>male</td>\n",
              "      <td>yes</td>\n",
              "    </tr>\n",
              "    <tr>\n",
              "      <th>7</th>\n",
              "      <td>7.325</td>\n",
              "      <td>11</td>\n",
              "      <td>70.4</td>\n",
              "      <td>no</td>\n",
              "      <td>male</td>\n",
              "      <td>no</td>\n",
              "    </tr>\n",
              "    <tr>\n",
              "      <th>8</th>\n",
              "      <td>8.875</td>\n",
              "      <td>15</td>\n",
              "      <td>70.5</td>\n",
              "      <td>no</td>\n",
              "      <td>male</td>\n",
              "      <td>no</td>\n",
              "    </tr>\n",
              "    <tr>\n",
              "      <th>9</th>\n",
              "      <td>6.800</td>\n",
              "      <td>11</td>\n",
              "      <td>59.2</td>\n",
              "      <td>no</td>\n",
              "      <td>male</td>\n",
              "      <td>no</td>\n",
              "    </tr>\n",
              "  </tbody>\n",
              "</table>\n",
              "</div>"
            ],
            "text/plain": [
              "   LungCap  Age  Height Smoke  Gender Caesarean\n",
              "0    6.475    6    62.1    no    male        no\n",
              "1   10.125   18    74.7   yes  female        no\n",
              "2    9.550   16    69.7    no  female       yes\n",
              "3   11.125   14    71.0    no    male        no\n",
              "4    4.800    5    56.9    no    male        no\n",
              "5    6.225   11    58.7    no  female        no\n",
              "6    4.950    8    63.3    no    male       yes\n",
              "7    7.325   11    70.4    no    male        no\n",
              "8    8.875   15    70.5    no    male        no\n",
              "9    6.800   11    59.2    no    male        no"
            ]
          },
          "metadata": {
            "tags": []
          },
          "execution_count": 5
        }
      ]
    },
    {
      "cell_type": "code",
      "metadata": {
        "colab": {
          "base_uri": "https://localhost:8080/"
        },
        "id": "ejbwBLLgHd4p",
        "outputId": "6b16dac5-f2d9-4b97-8999-d3e9ae7c9a5b"
      },
      "source": [
        "data.shape"
      ],
      "execution_count": 9,
      "outputs": [
        {
          "output_type": "execute_result",
          "data": {
            "text/plain": [
              "(725, 6)"
            ]
          },
          "metadata": {
            "tags": []
          },
          "execution_count": 9
        }
      ]
    },
    {
      "cell_type": "code",
      "metadata": {
        "colab": {
          "base_uri": "https://localhost:8080/"
        },
        "id": "skvBPdDMO1VY",
        "outputId": "79b397c5-1a52-4954-9e3d-0cb40fff40ca"
      },
      "source": [
        "print(f\"Number of rows= {data.shape[0]}\")\n",
        "print(f\"Number of columns= {data.shape[1]}\")"
      ],
      "execution_count": 11,
      "outputs": [
        {
          "output_type": "stream",
          "text": [
            "Number of rows= 725\n",
            "Number of columns= 6\n"
          ],
          "name": "stdout"
        }
      ]
    },
    {
      "cell_type": "code",
      "metadata": {
        "colab": {
          "base_uri": "https://localhost:8080/"
        },
        "id": "ELnyak44Oz0b",
        "outputId": "112c0755-4139-45c2-c2c9-419c216daa4e"
      },
      "source": [
        "data.columns"
      ],
      "execution_count": 13,
      "outputs": [
        {
          "output_type": "execute_result",
          "data": {
            "text/plain": [
              "Index(['LungCap', 'Age', 'Height', 'Smoke', 'Gender', 'Caesarean'], dtype='object')"
            ]
          },
          "metadata": {
            "tags": []
          },
          "execution_count": 13
        }
      ]
    },
    {
      "cell_type": "code",
      "metadata": {
        "colab": {
          "base_uri": "https://localhost:8080/"
        },
        "id": "fVj-UTCuPkio",
        "outputId": "218e49eb-05ef-4ece-e212-36fdd7831842"
      },
      "source": [
        "data.isnull().sum()"
      ],
      "execution_count": 15,
      "outputs": [
        {
          "output_type": "execute_result",
          "data": {
            "text/plain": [
              "LungCap      0\n",
              "Age          0\n",
              "Height       0\n",
              "Smoke        0\n",
              "Gender       0\n",
              "Caesarean    0\n",
              "dtype: int64"
            ]
          },
          "metadata": {
            "tags": []
          },
          "execution_count": 15
        }
      ]
    },
    {
      "cell_type": "code",
      "metadata": {
        "id": "qvc6iUSDPkSk"
      },
      "source": [
        "data.drop(['Height', 'Smoke', 'Gender', 'Caesarean'], axis = 1, inplace = True)"
      ],
      "execution_count": 16,
      "outputs": []
    },
    {
      "cell_type": "code",
      "metadata": {
        "colab": {
          "base_uri": "https://localhost:8080/",
          "height": 417
        },
        "id": "sdVvEwqAPkPJ",
        "outputId": "2e8c7409-e55a-4c99-aafb-84feb45fa034"
      },
      "source": [
        "data"
      ],
      "execution_count": 17,
      "outputs": [
        {
          "output_type": "execute_result",
          "data": {
            "text/html": [
              "<div>\n",
              "<style scoped>\n",
              "    .dataframe tbody tr th:only-of-type {\n",
              "        vertical-align: middle;\n",
              "    }\n",
              "\n",
              "    .dataframe tbody tr th {\n",
              "        vertical-align: top;\n",
              "    }\n",
              "\n",
              "    .dataframe thead th {\n",
              "        text-align: right;\n",
              "    }\n",
              "</style>\n",
              "<table border=\"1\" class=\"dataframe\">\n",
              "  <thead>\n",
              "    <tr style=\"text-align: right;\">\n",
              "      <th></th>\n",
              "      <th>LungCap</th>\n",
              "      <th>Age</th>\n",
              "    </tr>\n",
              "  </thead>\n",
              "  <tbody>\n",
              "    <tr>\n",
              "      <th>0</th>\n",
              "      <td>6.475</td>\n",
              "      <td>6</td>\n",
              "    </tr>\n",
              "    <tr>\n",
              "      <th>1</th>\n",
              "      <td>10.125</td>\n",
              "      <td>18</td>\n",
              "    </tr>\n",
              "    <tr>\n",
              "      <th>2</th>\n",
              "      <td>9.550</td>\n",
              "      <td>16</td>\n",
              "    </tr>\n",
              "    <tr>\n",
              "      <th>3</th>\n",
              "      <td>11.125</td>\n",
              "      <td>14</td>\n",
              "    </tr>\n",
              "    <tr>\n",
              "      <th>4</th>\n",
              "      <td>4.800</td>\n",
              "      <td>5</td>\n",
              "    </tr>\n",
              "    <tr>\n",
              "      <th>...</th>\n",
              "      <td>...</td>\n",
              "      <td>...</td>\n",
              "    </tr>\n",
              "    <tr>\n",
              "      <th>720</th>\n",
              "      <td>5.725</td>\n",
              "      <td>9</td>\n",
              "    </tr>\n",
              "    <tr>\n",
              "      <th>721</th>\n",
              "      <td>9.050</td>\n",
              "      <td>18</td>\n",
              "    </tr>\n",
              "    <tr>\n",
              "      <th>722</th>\n",
              "      <td>3.850</td>\n",
              "      <td>11</td>\n",
              "    </tr>\n",
              "    <tr>\n",
              "      <th>723</th>\n",
              "      <td>9.825</td>\n",
              "      <td>15</td>\n",
              "    </tr>\n",
              "    <tr>\n",
              "      <th>724</th>\n",
              "      <td>7.100</td>\n",
              "      <td>10</td>\n",
              "    </tr>\n",
              "  </tbody>\n",
              "</table>\n",
              "<p>725 rows × 2 columns</p>\n",
              "</div>"
            ],
            "text/plain": [
              "     LungCap  Age\n",
              "0      6.475    6\n",
              "1     10.125   18\n",
              "2      9.550   16\n",
              "3     11.125   14\n",
              "4      4.800    5\n",
              "..       ...  ...\n",
              "720    5.725    9\n",
              "721    9.050   18\n",
              "722    3.850   11\n",
              "723    9.825   15\n",
              "724    7.100   10\n",
              "\n",
              "[725 rows x 2 columns]"
            ]
          },
          "metadata": {
            "tags": []
          },
          "execution_count": 17
        }
      ]
    },
    {
      "cell_type": "code",
      "metadata": {
        "colab": {
          "base_uri": "https://localhost:8080/"
        },
        "id": "8JQRD98vQSHZ",
        "outputId": "12fb8ec0-dc22-42f5-d9ad-99875b5bc4f5"
      },
      "source": [
        "data.columns"
      ],
      "execution_count": 18,
      "outputs": [
        {
          "output_type": "execute_result",
          "data": {
            "text/plain": [
              "Index(['LungCap', 'Age'], dtype='object')"
            ]
          },
          "metadata": {
            "tags": []
          },
          "execution_count": 18
        }
      ]
    },
    {
      "cell_type": "markdown",
      "metadata": {
        "id": "z4AiUH7uQWwO"
      },
      "source": [
        "**Machine Learning Model**"
      ]
    },
    {
      "cell_type": "code",
      "metadata": {
        "id": "QAFZR6EUQWIF"
      },
      "source": [
        "x = data.iloc[:, -1].values\n",
        "y = data.iloc[:, 1].values"
      ],
      "execution_count": 34,
      "outputs": []
    },
    {
      "cell_type": "code",
      "metadata": {
        "colab": {
          "base_uri": "https://localhost:8080/"
        },
        "id": "r8S_a2I5QzpU",
        "outputId": "5ef8db86-2228-4de4-bbf0-939de58256a2"
      },
      "source": [
        "print(x)\n",
        "print(y)"
      ],
      "execution_count": 35,
      "outputs": [
        {
          "output_type": "stream",
          "text": [
            "[ 6 18 16 14  5 11  8 11 15 11 19 17 12 10 10 13 15  8 11 14  6  8 16 11\n",
            " 11 12 12  9  4 18  4 13 13 13 12 10  6  9 11 17 14 17  8 12  6 11 11 12\n",
            " 17  7 15 15 11 10 18  6 13 19  9 12 12 14  9 13 13 13 11 11 11 12 14 11\n",
            " 11 13 13 12 14  9 17 11 12 16 17 19 14 12 19 11 15 19  9 14 13 14 19 18\n",
            " 16  7 16 10 13 14 13 16 16  5 16 12  7  7 15 18  8  3 15 15  7 18  8 17\n",
            " 16 12 17 16 19 12 17 19 12 12 15 17 13 12 16 13 15 15 14 13  6 18 18 18\n",
            "  9 17 14 14 14  3 11  8  9  8 16  7 11  5 16 11 16 10 12 19  7  8 13 17\n",
            "  9  8 15  6 14 10 17 15 10 16 17 17 13 17 15 16 18 10 16  8 14  4 17 15\n",
            " 10 13 16 17 19 11  8 12 13 16 15 18  8  5 10  8 13  7 11 15 10 15  8  7\n",
            " 10 18 15 19 14  3  6 12 14  8 15  5  3 11 11 13 18 19 15 18  8 11 17 14\n",
            " 12 14  8 12 11  6  9 11 18 18 19  9 18  9  7  8 18 11 12 11 14 14  5 12\n",
            " 19  9 17 10  9  9 10 14 14 12 17 10 12 13 11 12 17 14 15  8 13 11 10  6\n",
            " 10 18  6 18  3 15 13 19 11 13  5  8 18 13 10 18 12  9 15 14  8 19  7 13\n",
            " 14 19  9 12 10  3 13 16 13 10 15 11 11 19 15 11 19  8  7 10 13 14 14  9\n",
            " 11 13 15 18 15 13  9  8  7 17 11 12  9 14  8 16 17  9 12 19 17 15 12  7\n",
            "  8 15 18 11 10  9 11 16 16 18 16 10 13 16 18  9 13 11  5  6 12  9 15 13\n",
            " 16 18 11 13  7  4 13 16 17 10 11  7 11 16 13  8  3 12 15  8  4 13  7 15\n",
            " 15 18  7 13 18 19 10  6 13 14 15  5 12 17  8 12 12 12  7 19 17 16  6 12\n",
            "  6  6 14 15  7 14 16 11  9 19 17 15 13  5 11 11 10 13 10  9 15 13 17  5\n",
            " 14 10 13  8 17 13 10 10 16  5 15 11 12 19 10 18 13 15 16 17 14  9 16 16\n",
            " 16 16 12 16  7 18  4 19 11 15  8 15  5  6 19 14 14  7 15 13  9 13 18  5\n",
            " 14  7 18 17 14 13 11 12 18  3 14  9 10  9 15 14 16 12  9 13 15 11  6 12\n",
            " 17 12  3 12  7 12  8  9 15 11 15 12  9 10  6 12 14 15  8 19 12  7 17  7\n",
            " 12 13 15 15  6 13 19 12  9 17 19 10 12 14 12 18  5 19 17 13  9  7 16 16\n",
            " 17 17 18  7  7 12 12  8  8 14 11 17 13 13 15  5 10 15 11  3  6  7 12 14\n",
            " 13 19 15 14  7 16 16 16  7  7 16 15 12  6 11 13 15 13 18 15  3 16 12 12\n",
            "  5 12 14  6 19  9 11 10  7 16  5  8 15 10 10 13 18 12 13 19 10 19 16 13\n",
            " 13 14  9  8 10 13 12  6 14 18 14  3 16 10 12 10 16 10  8 10  5  8  8 18\n",
            "  6 10 14 17 18 14 14 10 13 18 11 15 19 16 16 15  8  7 12 10 13  7 13 14\n",
            "  9 16 15 13 10 14 12  7 15 19 15 12 15 10 17  5  3 14 16 19 11 16 17  9\n",
            "  9 18 11 15 10]\n",
            "[ 6 18 16 14  5 11  8 11 15 11 19 17 12 10 10 13 15  8 11 14  6  8 16 11\n",
            " 11 12 12  9  4 18  4 13 13 13 12 10  6  9 11 17 14 17  8 12  6 11 11 12\n",
            " 17  7 15 15 11 10 18  6 13 19  9 12 12 14  9 13 13 13 11 11 11 12 14 11\n",
            " 11 13 13 12 14  9 17 11 12 16 17 19 14 12 19 11 15 19  9 14 13 14 19 18\n",
            " 16  7 16 10 13 14 13 16 16  5 16 12  7  7 15 18  8  3 15 15  7 18  8 17\n",
            " 16 12 17 16 19 12 17 19 12 12 15 17 13 12 16 13 15 15 14 13  6 18 18 18\n",
            "  9 17 14 14 14  3 11  8  9  8 16  7 11  5 16 11 16 10 12 19  7  8 13 17\n",
            "  9  8 15  6 14 10 17 15 10 16 17 17 13 17 15 16 18 10 16  8 14  4 17 15\n",
            " 10 13 16 17 19 11  8 12 13 16 15 18  8  5 10  8 13  7 11 15 10 15  8  7\n",
            " 10 18 15 19 14  3  6 12 14  8 15  5  3 11 11 13 18 19 15 18  8 11 17 14\n",
            " 12 14  8 12 11  6  9 11 18 18 19  9 18  9  7  8 18 11 12 11 14 14  5 12\n",
            " 19  9 17 10  9  9 10 14 14 12 17 10 12 13 11 12 17 14 15  8 13 11 10  6\n",
            " 10 18  6 18  3 15 13 19 11 13  5  8 18 13 10 18 12  9 15 14  8 19  7 13\n",
            " 14 19  9 12 10  3 13 16 13 10 15 11 11 19 15 11 19  8  7 10 13 14 14  9\n",
            " 11 13 15 18 15 13  9  8  7 17 11 12  9 14  8 16 17  9 12 19 17 15 12  7\n",
            "  8 15 18 11 10  9 11 16 16 18 16 10 13 16 18  9 13 11  5  6 12  9 15 13\n",
            " 16 18 11 13  7  4 13 16 17 10 11  7 11 16 13  8  3 12 15  8  4 13  7 15\n",
            " 15 18  7 13 18 19 10  6 13 14 15  5 12 17  8 12 12 12  7 19 17 16  6 12\n",
            "  6  6 14 15  7 14 16 11  9 19 17 15 13  5 11 11 10 13 10  9 15 13 17  5\n",
            " 14 10 13  8 17 13 10 10 16  5 15 11 12 19 10 18 13 15 16 17 14  9 16 16\n",
            " 16 16 12 16  7 18  4 19 11 15  8 15  5  6 19 14 14  7 15 13  9 13 18  5\n",
            " 14  7 18 17 14 13 11 12 18  3 14  9 10  9 15 14 16 12  9 13 15 11  6 12\n",
            " 17 12  3 12  7 12  8  9 15 11 15 12  9 10  6 12 14 15  8 19 12  7 17  7\n",
            " 12 13 15 15  6 13 19 12  9 17 19 10 12 14 12 18  5 19 17 13  9  7 16 16\n",
            " 17 17 18  7  7 12 12  8  8 14 11 17 13 13 15  5 10 15 11  3  6  7 12 14\n",
            " 13 19 15 14  7 16 16 16  7  7 16 15 12  6 11 13 15 13 18 15  3 16 12 12\n",
            "  5 12 14  6 19  9 11 10  7 16  5  8 15 10 10 13 18 12 13 19 10 19 16 13\n",
            " 13 14  9  8 10 13 12  6 14 18 14  3 16 10 12 10 16 10  8 10  5  8  8 18\n",
            "  6 10 14 17 18 14 14 10 13 18 11 15 19 16 16 15  8  7 12 10 13  7 13 14\n",
            "  9 16 15 13 10 14 12  7 15 19 15 12 15 10 17  5  3 14 16 19 11 16 17  9\n",
            "  9 18 11 15 10]\n"
          ],
          "name": "stdout"
        }
      ]
    },
    {
      "cell_type": "code",
      "metadata": {
        "id": "knZGp1z0RBk3"
      },
      "source": [
        "from sklearn.model_selection import train_test_split\n",
        "\n",
        "x_train, x_test, y_train, y_test = train_test_split(x, y, test_size = 1/3)"
      ],
      "execution_count": 36,
      "outputs": []
    },
    {
      "cell_type": "code",
      "metadata": {
        "colab": {
          "base_uri": "https://localhost:8080/"
        },
        "id": "0jKk3PbLRBZi",
        "outputId": "14724b90-ebd0-4df9-bb2a-95853f50f404"
      },
      "source": [
        "print(x_train)\n",
        "print(x_test)\n",
        "\n",
        "print(y_train)\n",
        "print(y_test)"
      ],
      "execution_count": 37,
      "outputs": [
        {
          "output_type": "stream",
          "text": [
            "[15 11 18 17 15 17 17 12 14 16 12 16 15 18 10 16  3  9 13  7 17 15 16 10\n",
            " 14  7 15  4 16 16 14  5  6 17  6 16 16 19  6  8 18 11  5 12 12 11 18 11\n",
            " 10 10 15 15 13  8 16 11 13  9 17 18 12 15  5 19 13 17  6 19 11 19 16 17\n",
            "  8  3 16 10 15 14 13 10 15 15 13 11 12  5 15 13 12 12 14 18 15 13  8  7\n",
            " 10 14 12 14 13 15 12 16 15 18 19 10  9  7 11 18  7 13 11  7  8 13 15 16\n",
            " 13 19 15 14  9  6 10 17 11 12 10  3  9 17 12  9  3 12 10 14 19 15  7 13\n",
            " 15  5 16 19 11 15 13  7  9  9  8 14 11  8 16  7 18 14 14 12 13  7 12  7\n",
            " 13  9  4  7 12 14 15 10 12 14 15 11  8 15 12 19 16  7 18 12  9  8 13 16\n",
            "  9 13  5  9 13  7 13 19 13 12 14  9 17 10 14 10  8 12 11  4 16  5 16 12\n",
            " 11 11 15  7  5  8  6 13  9 16 12  9  9 11  3 13 19 15 12  7 13  9 17 17\n",
            " 12 14  8 12 11 12  9 18 13 18  8 14 15 19 10  8 10 18  8 13 19  8 11 18\n",
            " 13 16 13  7 11 15 10 19  6 12 17  9  5 10 11 16 13 18 14 10 10 12 17  4\n",
            " 13 11 17 17 16 10 13 10  8  6 13 12  7 14  5  5 16  8 19 12 18 13 13  8\n",
            " 12  3  7 10 16 15 16 13 14 16 13  7 14 14 19 10  9 10 11  7 19  9  9  8\n",
            " 15  8 15  7 10 16 14 12 15 11 14  7 12  8 15  8 15  5 10 18 12 16 16  6\n",
            " 14 17 16 12 12 14 11 17 15 13 15 17 13 15  9 12 19  3  8 18 10 16 16 16\n",
            " 16 12 17 14 17 18 15 10  5 11 19 19 12 16 14 11 13 13 16 16  6 15 11 14\n",
            "  8 10 10 19 12 17 11 11  9 14  7 11  7 11  8  7 12  6 10 18 10  6 17 17\n",
            " 11 10 12 11 15  8 12 14 13 14 17 11 14 13 11  8 15 18 16 13 15 13 12 14\n",
            " 10 18 18 13 15  5  9 14  6 13 10 19 17  7 10 13 15  8 15 17  9  9 18 13\n",
            "  8  9  9]\n",
            "[10 10 13  8  6 18 11  7  6 13 13  8 18 12  6  6 10  3 15 14 15 19 10 10\n",
            " 11  4 18  6 13 18 13 17 12 11 13 11  6  7 13  6 17 12 18  3 19 13 10 16\n",
            " 14 14 14 19  7  7 15 19 12  8  6 12 15 12 13 14  5 17 19  9 18 19 12  6\n",
            " 12 15  8 18 16 18 16 15 11 16 19 17 12  3 17  8 16  9 11 11  6 12 14 10\n",
            " 14  7 18 18 18 15  6  3  9 18 13 19  8 11 10  9  7 11 11 18 17 10 12 17\n",
            " 12 14 13 19  9 15 13 16 11  5 18 15 12  3  8 15 12  9 13 11 13 11  7 12\n",
            "  9 15 13 10 15 12 14 17  5  5 19 14 14 14  9 10 12 17 14 18 11  7 10 15\n",
            " 16  5  9 19 10 19 12 13 17 11 14 15 12 14  8 15 18 16 14 15  7 13 13 19\n",
            " 13 16 11 15 19  9  3 11 11 19 16 12 13  9  6 16 14 18 14  8 18 15  8 14\n",
            " 11 16 17 15 11 17 10  5 16 15  8 17  7 17 11 14  4 12 17 12 11 12 13 18\n",
            " 16 16]\n",
            "[15 11 18 17 15 17 17 12 14 16 12 16 15 18 10 16  3  9 13  7 17 15 16 10\n",
            " 14  7 15  4 16 16 14  5  6 17  6 16 16 19  6  8 18 11  5 12 12 11 18 11\n",
            " 10 10 15 15 13  8 16 11 13  9 17 18 12 15  5 19 13 17  6 19 11 19 16 17\n",
            "  8  3 16 10 15 14 13 10 15 15 13 11 12  5 15 13 12 12 14 18 15 13  8  7\n",
            " 10 14 12 14 13 15 12 16 15 18 19 10  9  7 11 18  7 13 11  7  8 13 15 16\n",
            " 13 19 15 14  9  6 10 17 11 12 10  3  9 17 12  9  3 12 10 14 19 15  7 13\n",
            " 15  5 16 19 11 15 13  7  9  9  8 14 11  8 16  7 18 14 14 12 13  7 12  7\n",
            " 13  9  4  7 12 14 15 10 12 14 15 11  8 15 12 19 16  7 18 12  9  8 13 16\n",
            "  9 13  5  9 13  7 13 19 13 12 14  9 17 10 14 10  8 12 11  4 16  5 16 12\n",
            " 11 11 15  7  5  8  6 13  9 16 12  9  9 11  3 13 19 15 12  7 13  9 17 17\n",
            " 12 14  8 12 11 12  9 18 13 18  8 14 15 19 10  8 10 18  8 13 19  8 11 18\n",
            " 13 16 13  7 11 15 10 19  6 12 17  9  5 10 11 16 13 18 14 10 10 12 17  4\n",
            " 13 11 17 17 16 10 13 10  8  6 13 12  7 14  5  5 16  8 19 12 18 13 13  8\n",
            " 12  3  7 10 16 15 16 13 14 16 13  7 14 14 19 10  9 10 11  7 19  9  9  8\n",
            " 15  8 15  7 10 16 14 12 15 11 14  7 12  8 15  8 15  5 10 18 12 16 16  6\n",
            " 14 17 16 12 12 14 11 17 15 13 15 17 13 15  9 12 19  3  8 18 10 16 16 16\n",
            " 16 12 17 14 17 18 15 10  5 11 19 19 12 16 14 11 13 13 16 16  6 15 11 14\n",
            "  8 10 10 19 12 17 11 11  9 14  7 11  7 11  8  7 12  6 10 18 10  6 17 17\n",
            " 11 10 12 11 15  8 12 14 13 14 17 11 14 13 11  8 15 18 16 13 15 13 12 14\n",
            " 10 18 18 13 15  5  9 14  6 13 10 19 17  7 10 13 15  8 15 17  9  9 18 13\n",
            "  8  9  9]\n",
            "[10 10 13  8  6 18 11  7  6 13 13  8 18 12  6  6 10  3 15 14 15 19 10 10\n",
            " 11  4 18  6 13 18 13 17 12 11 13 11  6  7 13  6 17 12 18  3 19 13 10 16\n",
            " 14 14 14 19  7  7 15 19 12  8  6 12 15 12 13 14  5 17 19  9 18 19 12  6\n",
            " 12 15  8 18 16 18 16 15 11 16 19 17 12  3 17  8 16  9 11 11  6 12 14 10\n",
            " 14  7 18 18 18 15  6  3  9 18 13 19  8 11 10  9  7 11 11 18 17 10 12 17\n",
            " 12 14 13 19  9 15 13 16 11  5 18 15 12  3  8 15 12  9 13 11 13 11  7 12\n",
            "  9 15 13 10 15 12 14 17  5  5 19 14 14 14  9 10 12 17 14 18 11  7 10 15\n",
            " 16  5  9 19 10 19 12 13 17 11 14 15 12 14  8 15 18 16 14 15  7 13 13 19\n",
            " 13 16 11 15 19  9  3 11 11 19 16 12 13  9  6 16 14 18 14  8 18 15  8 14\n",
            " 11 16 17 15 11 17 10  5 16 15  8 17  7 17 11 14  4 12 17 12 11 12 13 18\n",
            " 16 16]\n"
          ],
          "name": "stdout"
        }
      ]
    },
    {
      "cell_type": "code",
      "metadata": {
        "colab": {
          "base_uri": "https://localhost:8080/",
          "height": 723
        },
        "id": "8Tc0sLDRRVLJ",
        "outputId": "a8580acf-0405-4d99-9a5e-09149c58c1c3"
      },
      "source": [
        "from sklearn.linear_model import LinearRegression\n",
        "slr = LinearRegression()\n",
        "slr.fit(x_train, y_train)"
      ],
      "execution_count": 33,
      "outputs": [
        {
          "output_type": "error",
          "ename": "ValueError",
          "evalue": "ignored",
          "traceback": [
            "\u001b[0;31m---------------------------------------------------------------------------\u001b[0m",
            "\u001b[0;31mValueError\u001b[0m                                Traceback (most recent call last)",
            "\u001b[0;32m<ipython-input-33-9707facb9b50>\u001b[0m in \u001b[0;36m<module>\u001b[0;34m()\u001b[0m\n\u001b[1;32m      1\u001b[0m \u001b[0;32mfrom\u001b[0m \u001b[0msklearn\u001b[0m\u001b[0;34m.\u001b[0m\u001b[0mlinear_model\u001b[0m \u001b[0;32mimport\u001b[0m \u001b[0mLinearRegression\u001b[0m\u001b[0;34m\u001b[0m\u001b[0;34m\u001b[0m\u001b[0m\n\u001b[1;32m      2\u001b[0m \u001b[0mslr\u001b[0m \u001b[0;34m=\u001b[0m \u001b[0mLinearRegression\u001b[0m\u001b[0;34m(\u001b[0m\u001b[0;34m)\u001b[0m\u001b[0;34m\u001b[0m\u001b[0;34m\u001b[0m\u001b[0m\n\u001b[0;32m----> 3\u001b[0;31m \u001b[0mslr\u001b[0m\u001b[0;34m.\u001b[0m\u001b[0mfit\u001b[0m\u001b[0;34m(\u001b[0m\u001b[0mx_train\u001b[0m\u001b[0;34m,\u001b[0m \u001b[0my_train\u001b[0m\u001b[0;34m)\u001b[0m\u001b[0;34m\u001b[0m\u001b[0;34m\u001b[0m\u001b[0m\n\u001b[0m",
            "\u001b[0;32m/usr/local/lib/python3.7/dist-packages/sklearn/linear_model/_base.py\u001b[0m in \u001b[0;36mfit\u001b[0;34m(self, X, y, sample_weight)\u001b[0m\n\u001b[1;32m    490\u001b[0m         \u001b[0mn_jobs_\u001b[0m \u001b[0;34m=\u001b[0m \u001b[0mself\u001b[0m\u001b[0;34m.\u001b[0m\u001b[0mn_jobs\u001b[0m\u001b[0;34m\u001b[0m\u001b[0;34m\u001b[0m\u001b[0m\n\u001b[1;32m    491\u001b[0m         X, y = check_X_y(X, y, accept_sparse=['csr', 'csc', 'coo'],\n\u001b[0;32m--> 492\u001b[0;31m                          y_numeric=True, multi_output=True)\n\u001b[0m\u001b[1;32m    493\u001b[0m \u001b[0;34m\u001b[0m\u001b[0m\n\u001b[1;32m    494\u001b[0m         \u001b[0;32mif\u001b[0m \u001b[0msample_weight\u001b[0m \u001b[0;32mis\u001b[0m \u001b[0;32mnot\u001b[0m \u001b[0;32mNone\u001b[0m\u001b[0;34m:\u001b[0m\u001b[0;34m\u001b[0m\u001b[0;34m\u001b[0m\u001b[0m\n",
            "\u001b[0;32m/usr/local/lib/python3.7/dist-packages/sklearn/utils/validation.py\u001b[0m in \u001b[0;36mcheck_X_y\u001b[0;34m(X, y, accept_sparse, accept_large_sparse, dtype, order, copy, force_all_finite, ensure_2d, allow_nd, multi_output, ensure_min_samples, ensure_min_features, y_numeric, warn_on_dtype, estimator)\u001b[0m\n\u001b[1;32m    753\u001b[0m                     \u001b[0mensure_min_features\u001b[0m\u001b[0;34m=\u001b[0m\u001b[0mensure_min_features\u001b[0m\u001b[0;34m,\u001b[0m\u001b[0;34m\u001b[0m\u001b[0;34m\u001b[0m\u001b[0m\n\u001b[1;32m    754\u001b[0m                     \u001b[0mwarn_on_dtype\u001b[0m\u001b[0;34m=\u001b[0m\u001b[0mwarn_on_dtype\u001b[0m\u001b[0;34m,\u001b[0m\u001b[0;34m\u001b[0m\u001b[0;34m\u001b[0m\u001b[0m\n\u001b[0;32m--> 755\u001b[0;31m                     estimator=estimator)\n\u001b[0m\u001b[1;32m    756\u001b[0m     \u001b[0;32mif\u001b[0m \u001b[0mmulti_output\u001b[0m\u001b[0;34m:\u001b[0m\u001b[0;34m\u001b[0m\u001b[0;34m\u001b[0m\u001b[0m\n\u001b[1;32m    757\u001b[0m         y = check_array(y, 'csr', force_all_finite=True, ensure_2d=False,\n",
            "\u001b[0;32m/usr/local/lib/python3.7/dist-packages/sklearn/utils/validation.py\u001b[0m in \u001b[0;36mcheck_array\u001b[0;34m(array, accept_sparse, accept_large_sparse, dtype, order, copy, force_all_finite, ensure_2d, allow_nd, ensure_min_samples, ensure_min_features, warn_on_dtype, estimator)\u001b[0m\n\u001b[1;32m    554\u001b[0m                     \u001b[0;34m\"Reshape your data either using array.reshape(-1, 1) if \"\u001b[0m\u001b[0;34m\u001b[0m\u001b[0;34m\u001b[0m\u001b[0m\n\u001b[1;32m    555\u001b[0m                     \u001b[0;34m\"your data has a single feature or array.reshape(1, -1) \"\u001b[0m\u001b[0;34m\u001b[0m\u001b[0;34m\u001b[0m\u001b[0m\n\u001b[0;32m--> 556\u001b[0;31m                     \"if it contains a single sample.\".format(array))\n\u001b[0m\u001b[1;32m    557\u001b[0m \u001b[0;34m\u001b[0m\u001b[0m\n\u001b[1;32m    558\u001b[0m         \u001b[0;31m# in the future np.flexible dtypes will be handled like object dtypes\u001b[0m\u001b[0;34m\u001b[0m\u001b[0;34m\u001b[0m\u001b[0;34m\u001b[0m\u001b[0m\n",
            "\u001b[0;31mValueError\u001b[0m: Expected 2D array, got 1D array instead:\narray=[ 5  7 14 18 13 17 13 16  9 11 13 10 14 12  7 16 17  9  6 13 12 10 10 15\n  6  6 15 10  6 10 15  3 15 19 17 13 10 16 18 13 13 19  9 16  8 19 16 18\n  9  5  9 12 12 10  5  9 13 10 14 15 12 10 19 15 16 12  3 18  7  3  7 13\n  8  7 13 14  9 17 16 11 15 11 16 11 16 11 12 17 11 16 12  5 16 17  4  8\n 14 12 13  6 19 10  7 18 17  5 14 19 12 19 13 11  7  6 15 12  7 16 17 13\n 10  9 18  7 14 15 19 18 16 19 17 13 13 18 11 13 10 12  8 11 14 15  6 15\n 10 10 19 19  8 15 11 16  6 12 18 13 12  8 14 18 12 19 17 17 17 15 16 12\n 18 12 11  9 10 10 13  7 14 14  3  7 13  8 16 11  9  7 12 15 11 12 14 16\n 15 19 11  9 18  6 13 10 10 15 17  8 13 18  5 14  4  7 17  9 13 13  8 18\n 12 19 15 10 13 13  7 14  7 13 14 17 19 12 14 15 15 17  7 16 18 15  8 12\n 13  8 10  9 13  9 17  8  6 13 15 13 16  9 13 11 15 13 12 16 19 13 10  9\n 13 10 14 15 10 14 19  8 12 19 14  5 17 17 15 10 10  7 13 14 11 12 12 15\n 11 16 14  8 14 16 18  3 14  7 11 12 15 12  7 12  9 14 12 13 18 16 16 18\n 12 17  8 18 11 10 15 10 10 10  9 11 12  8 11  6 10 14 10 12 11 18 19  9\n 11 15  7 15 12 14 11 11  6 16  5 14 11 15  9  9 11 17 11 12 17 18  9  8\n  8 11 13 13 14  5  7  9 17 10 16 15 13 11 14 18 16  8 13  7  8  8 13 10\n  9  6 12 16  9  7 11 10 18 15 13 18 17  8 16 13  5 13 13 18 13 11 11  5\n  9 14 18 12 17 14  7 10 19 19 16 11 19 18 10 15  8 18  8 17  8 15 11  8\n 17 12  3  4 18 12  8 10  9 18 15  5 17 11 10 19 14 12 17  5 16 19 15 12\n 12 10 12  9 11  6 15 18  6 10 19 11  8  7 12  6 11  8 17 16 15 10  6 14\n 10 13  5].\nReshape your data either using array.reshape(-1, 1) if your data has a single feature or array.reshape(1, -1) if it contains a single sample."
          ]
        }
      ]
    },
    {
      "cell_type": "code",
      "metadata": {
        "colab": {
          "base_uri": "https://localhost:8080/"
        },
        "id": "f-sKJbdzRU4u",
        "outputId": "a4c1bacc-cf21-418d-fd80-607ef5dafe90"
      },
      "source": [
        "y_pred = slr.predict(x_test)\n",
        "\n",
        "print(y_pred)"
      ],
      "execution_count": 27,
      "outputs": [
        {
          "output_type": "stream",
          "text": [
            "[13.96566673 14.08959335  5.47669314 12.3856023  15.48376784 10.30983139\n",
            " 12.16873071 10.21688642 14.18253832 15.60769447 13.56290521  4.14448195\n",
            " 11.02240946 15.45278619 16.59910744 10.34081304 12.63345554 10.52670297\n",
            "  8.4199504  12.04480409 13.31505196 15.45278619  9.47332669 11.45615264\n",
            " 11.36320767 12.72640051  9.93805152 19.26352981 10.40277635 13.00523541\n",
            "  8.17209716 10.34081304 10.83651953 14.27548328 10.27884973 11.85891416\n",
            " 16.22732758 14.30646494  4.64018844 13.87272176 11.95185912 13.37701527\n",
            " 11.33222602 13.34603362 10.61964794 16.47518082 13.81075845 10.68161125\n",
            " 11.85891416 15.01904301  5.848473   10.99142781  9.41136338 13.222107\n",
            " 12.35462065 12.85032713 11.39418933 11.17731774 16.41321751  6.6849777\n",
            " 12.19971237  6.06534459 12.57149223 12.91229044 13.19112534 12.88130879\n",
            " 14.02763004 11.92087747 13.46996024 11.79695085 14.64726315 17.43561214\n",
            "  9.28743676  7.14970253 12.75738217 14.05861169 11.73498754 12.13774906\n",
            " 11.70400588  6.25123452 13.40799693 12.60247389 10.49572132 16.32027254\n",
            " 12.60247389 20.50279603 10.86750118 12.91229044 14.30646494 12.50952892\n",
            " 14.46137322 14.70922646 14.86413474 16.59910744 15.94849268 12.60247389\n",
            " 13.96566673 10.68161125 14.70922646  8.20307882 14.86413474 15.2359146\n",
            " 14.77118977 14.98806136 11.79695085 13.46996024 12.04480409 12.04480409\n",
            " 11.05339112  7.8003173  19.26352981 15.42180453 12.47854727 13.81075845\n",
            " 15.91751102  9.69019828  5.94141797 17.40463048  8.76074861 13.5009419\n",
            " 12.3856023  12.04480409 15.76260274  8.6987853  15.14296963 17.71444704\n",
            " 17.18775889 10.80553787  9.96903318  6.62301439 11.95185912 15.88652937\n",
            "  7.45951909 10.80553787 11.23928105 13.34603362  8.35798709  5.19785824\n",
            " 11.36320767 11.85891416 13.12916203 12.60247389 11.70400588 18.02426359\n",
            " 15.57671281 13.19112534 13.03621706 13.56290521  9.78314324  7.33559246\n",
            "  4.76411506 12.88130879 13.87272176 15.05002467 13.03621706 14.58529984\n",
            "  8.54387703 16.93990565 11.67302423 17.06383227  8.07915219 11.23928105\n",
            " 17.90033697 17.83837366 10.40277635 10.18590476 12.04480409 11.88989581\n",
            "  6.22025287 18.33408015  8.91565689 11.61106091 11.95185912  5.75552804\n",
            " 11.14633608 12.44756561 14.83315308 16.69205241 12.04480409  9.93805152\n",
            " 18.70586001 15.11198798 13.222107   16.93990565 13.12916203 14.12057501\n",
            " 16.16536426 12.50952892  6.93283094 10.06197814 17.62150207 12.3856023\n",
            " 13.28407031 14.86413474 14.92609805  9.07056517 10.80553787 12.35462065\n",
            " 17.12579558 14.08959335  8.94663855 10.12394145 12.23069402  9.59725331\n",
            "  7.18068419 11.23928105 15.66965778 14.43039156 12.75738217 16.01045599\n",
            " 18.86076829 14.89511639 12.60247389 12.3856023   9.56627166 20.87457589\n",
            " 11.17731774 12.54051058  9.69019828 15.57671281 15.32885957 15.08100632\n",
            "  9.56627166 14.98806136 15.7935844  16.22732758 15.14296963 10.71259291\n",
            " 17.83837366 15.11198798  6.06534459 10.3717947  11.76596919 10.58866629\n",
            " 12.57149223  5.47669314  9.31841841  9.2564551  15.63867612 10.06197814\n",
            " 12.23069402 14.89511639]\n"
          ],
          "name": "stdout"
        }
      ]
    },
    {
      "cell_type": "code",
      "metadata": {
        "colab": {
          "base_uri": "https://localhost:8080/"
        },
        "id": "QbH-NEF9Rqy7",
        "outputId": "589ec76f-05d7-4cb4-8c3d-9bd23fea64ef"
      },
      "source": [
        "print(x_test)"
      ],
      "execution_count": 28,
      "outputs": [
        {
          "output_type": "stream",
          "text": [
            "[[ 9.1  ]\n",
            " [ 9.2  ]\n",
            " [ 2.25 ]\n",
            " [ 7.825]\n",
            " [10.325]\n",
            " [ 6.15 ]\n",
            " [ 7.65 ]\n",
            " [ 6.075]\n",
            " [ 9.275]\n",
            " [10.425]\n",
            " [ 8.775]\n",
            " [ 1.175]\n",
            " [ 6.725]\n",
            " [10.3  ]\n",
            " [11.225]\n",
            " [ 6.175]\n",
            " [ 8.025]\n",
            " [ 6.325]\n",
            " [ 4.625]\n",
            " [ 7.55 ]\n",
            " [ 8.575]\n",
            " [10.3  ]\n",
            " [ 5.475]\n",
            " [ 7.075]\n",
            " [ 7.   ]\n",
            " [ 8.1  ]\n",
            " [ 5.85 ]\n",
            " [13.375]\n",
            " [ 6.225]\n",
            " [ 8.325]\n",
            " [ 4.425]\n",
            " [ 6.175]\n",
            " [ 6.575]\n",
            " [ 9.35 ]\n",
            " [ 6.125]\n",
            " [ 7.4  ]\n",
            " [10.925]\n",
            " [ 9.375]\n",
            " [ 1.575]\n",
            " [ 9.025]\n",
            " [ 7.475]\n",
            " [ 8.625]\n",
            " [ 6.975]\n",
            " [ 8.6  ]\n",
            " [ 6.4  ]\n",
            " [11.125]\n",
            " [ 8.975]\n",
            " [ 6.45 ]\n",
            " [ 7.4  ]\n",
            " [ 9.95 ]\n",
            " [ 2.55 ]\n",
            " [ 6.7  ]\n",
            " [ 5.425]\n",
            " [ 8.5  ]\n",
            " [ 7.8  ]\n",
            " [ 8.2  ]\n",
            " [ 7.025]\n",
            " [ 6.85 ]\n",
            " [11.075]\n",
            " [ 3.225]\n",
            " [ 7.675]\n",
            " [ 2.725]\n",
            " [ 7.975]\n",
            " [ 8.25 ]\n",
            " [ 8.475]\n",
            " [ 8.225]\n",
            " [ 9.15 ]\n",
            " [ 7.45 ]\n",
            " [ 8.7  ]\n",
            " [ 7.35 ]\n",
            " [ 9.65 ]\n",
            " [11.9  ]\n",
            " [ 5.325]\n",
            " [ 3.6  ]\n",
            " [ 8.125]\n",
            " [ 9.175]\n",
            " [ 7.3  ]\n",
            " [ 7.625]\n",
            " [ 7.275]\n",
            " [ 2.875]\n",
            " [ 8.65 ]\n",
            " [ 8.   ]\n",
            " [ 6.3  ]\n",
            " [11.   ]\n",
            " [ 8.   ]\n",
            " [14.375]\n",
            " [ 6.6  ]\n",
            " [ 8.25 ]\n",
            " [ 9.375]\n",
            " [ 7.925]\n",
            " [ 9.5  ]\n",
            " [ 9.7  ]\n",
            " [ 9.825]\n",
            " [11.225]\n",
            " [10.7  ]\n",
            " [ 8.   ]\n",
            " [ 9.1  ]\n",
            " [ 6.45 ]\n",
            " [ 9.7  ]\n",
            " [ 4.45 ]\n",
            " [ 9.825]\n",
            " [10.125]\n",
            " [ 9.75 ]\n",
            " [ 9.925]\n",
            " [ 7.35 ]\n",
            " [ 8.7  ]\n",
            " [ 7.55 ]\n",
            " [ 7.55 ]\n",
            " [ 6.75 ]\n",
            " [ 4.125]\n",
            " [13.375]\n",
            " [10.275]\n",
            " [ 7.9  ]\n",
            " [ 8.975]\n",
            " [10.675]\n",
            " [ 5.65 ]\n",
            " [ 2.625]\n",
            " [11.875]\n",
            " [ 4.9  ]\n",
            " [ 8.725]\n",
            " [ 7.825]\n",
            " [ 7.55 ]\n",
            " [10.55 ]\n",
            " [ 4.85 ]\n",
            " [10.05 ]\n",
            " [12.125]\n",
            " [11.7  ]\n",
            " [ 6.55 ]\n",
            " [ 5.875]\n",
            " [ 3.175]\n",
            " [ 7.475]\n",
            " [10.65 ]\n",
            " [ 3.85 ]\n",
            " [ 6.55 ]\n",
            " [ 6.9  ]\n",
            " [ 8.6  ]\n",
            " [ 4.575]\n",
            " [ 2.025]\n",
            " [ 7.   ]\n",
            " [ 7.4  ]\n",
            " [ 8.425]\n",
            " [ 8.   ]\n",
            " [ 7.275]\n",
            " [12.375]\n",
            " [10.4  ]\n",
            " [ 8.475]\n",
            " [ 8.35 ]\n",
            " [ 8.775]\n",
            " [ 5.725]\n",
            " [ 3.75 ]\n",
            " [ 1.675]\n",
            " [ 8.225]\n",
            " [ 9.025]\n",
            " [ 9.975]\n",
            " [ 8.35 ]\n",
            " [ 9.6  ]\n",
            " [ 4.725]\n",
            " [11.5  ]\n",
            " [ 7.25 ]\n",
            " [11.6  ]\n",
            " [ 4.35 ]\n",
            " [ 6.9  ]\n",
            " [12.275]\n",
            " [12.225]\n",
            " [ 6.225]\n",
            " [ 6.05 ]\n",
            " [ 7.55 ]\n",
            " [ 7.425]\n",
            " [ 2.85 ]\n",
            " [12.625]\n",
            " [ 5.025]\n",
            " [ 7.2  ]\n",
            " [ 7.475]\n",
            " [ 2.475]\n",
            " [ 6.825]\n",
            " [ 7.875]\n",
            " [ 9.8  ]\n",
            " [11.3  ]\n",
            " [ 7.55 ]\n",
            " [ 5.85 ]\n",
            " [12.925]\n",
            " [10.025]\n",
            " [ 8.5  ]\n",
            " [11.5  ]\n",
            " [ 8.425]\n",
            " [ 9.225]\n",
            " [10.875]\n",
            " [ 7.925]\n",
            " [ 3.425]\n",
            " [ 5.95 ]\n",
            " [12.05 ]\n",
            " [ 7.825]\n",
            " [ 8.55 ]\n",
            " [ 9.825]\n",
            " [ 9.875]\n",
            " [ 5.15 ]\n",
            " [ 6.55 ]\n",
            " [ 7.8  ]\n",
            " [11.65 ]\n",
            " [ 9.2  ]\n",
            " [ 5.05 ]\n",
            " [ 6.   ]\n",
            " [ 7.7  ]\n",
            " [ 5.575]\n",
            " [ 3.625]\n",
            " [ 6.9  ]\n",
            " [10.475]\n",
            " [ 9.475]\n",
            " [ 8.125]\n",
            " [10.75 ]\n",
            " [13.05 ]\n",
            " [ 9.85 ]\n",
            " [ 8.   ]\n",
            " [ 7.825]\n",
            " [ 5.55 ]\n",
            " [14.675]\n",
            " [ 6.85 ]\n",
            " [ 7.95 ]\n",
            " [ 5.65 ]\n",
            " [10.4  ]\n",
            " [10.2  ]\n",
            " [10.   ]\n",
            " [ 5.55 ]\n",
            " [ 9.925]\n",
            " [10.575]\n",
            " [10.925]\n",
            " [10.05 ]\n",
            " [ 6.475]\n",
            " [12.225]\n",
            " [10.025]\n",
            " [ 2.725]\n",
            " [ 6.2  ]\n",
            " [ 7.325]\n",
            " [ 6.375]\n",
            " [ 7.975]\n",
            " [ 2.25 ]\n",
            " [ 5.35 ]\n",
            " [ 5.3  ]\n",
            " [10.45 ]\n",
            " [ 5.95 ]\n",
            " [ 7.7  ]\n",
            " [ 9.85 ]]\n"
          ],
          "name": "stdout"
        }
      ]
    }
  ]
}