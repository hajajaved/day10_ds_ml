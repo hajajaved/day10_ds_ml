{
  "nbformat": 4,
  "nbformat_minor": 0,
  "metadata": {
    "colab": {
      "name": "Copy of Adv.ipynb",
      "provenance": [],
      "authorship_tag": "ABX9TyOTb7jWejgDjnni85+j8oB9",
      "include_colab_link": true
    },
    "kernelspec": {
      "name": "python3",
      "display_name": "Python 3"
    },
    "language_info": {
      "name": "python"
    }
  },
  "cells": [
    {
      "cell_type": "markdown",
      "metadata": {
        "id": "view-in-github",
        "colab_type": "text"
      },
      "source": [
        "<a href=\"https://colab.research.google.com/github/hajajaved/day10_ds_ml/blob/main/Copy_of_Adv.ipynb\" target=\"_parent\"><img src=\"https://colab.research.google.com/assets/colab-badge.svg\" alt=\"Open In Colab\"/></a>"
      ]
    },
    {
      "cell_type": "code",
      "metadata": {
        "id": "Zrh9WRE0GjUv"
      },
      "source": [
        "# FILE WRITE\n",
        "f = open(\"fileprg.txt\",\"w\") \n",
        "f.write(\"File Program\") \n",
        "f.write(\"Introduction\") \n",
        "f.write(\"This is a sample program for file concepts\") \n",
        "f.write(\"To learn files in Python\") \n",
        "f.close() "
      ],
      "execution_count": null,
      "outputs": []
    },
    {
      "cell_type": "code",
      "metadata": {
        "colab": {
          "base_uri": "https://localhost:8080/"
        },
        "id": "rRC3kZulG3U-",
        "outputId": "6f8c71af-16ad-406d-82f3-e7883630a9cd"
      },
      "source": [
        "# Reading a Text File in Python\n",
        "\n",
        "f = open(\"fileprg.txt\", \"r\") \n",
        "print (f.read() )"
      ],
      "execution_count": null,
      "outputs": [
        {
          "output_type": "stream",
          "text": [
            "File ProgramIntroductionThis is a sample program for file conceptsTo learn files in Python\n"
          ],
          "name": "stdout"
        }
      ]
    },
    {
      "cell_type": "code",
      "metadata": {
        "colab": {
          "base_uri": "https://localhost:8080/"
        },
        "id": "U66-ENvFG3M8",
        "outputId": "af22bfa3-80ba-449f-d322-2716286399e3"
      },
      "source": [
        "# Reading characters\n",
        "f= open(\"fileprg.txt\", \"r\")\n",
        "print (f.read(5) )"
      ],
      "execution_count": null,
      "outputs": [
        {
          "output_type": "stream",
          "text": [
            "File \n"
          ],
          "name": "stdout"
        }
      ]
    },
    {
      "cell_type": "code",
      "metadata": {
        "colab": {
          "base_uri": "https://localhost:8080/"
        },
        "id": "d0Wd_V9AG3Ea",
        "outputId": "ae8b0e7a-9664-419f-d19b-97a012252520"
      },
      "source": [
        "#  Read single line\n",
        "f = open(\"fileprg.txt\", \"r\") \n",
        "print (f.readline())"
      ],
      "execution_count": null,
      "outputs": [
        {
          "output_type": "stream",
          "text": [
            "File ProgramIntroductionThis is a sample program for file conceptsTo learn files in Python\n"
          ],
          "name": "stdout"
        }
      ]
    },
    {
      "cell_type": "code",
      "metadata": {
        "colab": {
          "base_uri": "https://localhost:8080/"
        },
        "id": "DsXE4gFSG23A",
        "outputId": "59ed4f3b-469e-4b74-bdc8-0c00a0f46103"
      },
      "source": [
        "#  Read 5 lines\n",
        "f = open(\"fileprg.txt\", \"r\") \n",
        "print (f.readline(5))"
      ],
      "execution_count": null,
      "outputs": [
        {
          "output_type": "stream",
          "text": [
            "File \n"
          ],
          "name": "stdout"
        }
      ]
    },
    {
      "cell_type": "code",
      "metadata": {
        "colab": {
          "base_uri": "https://localhost:8080/"
        },
        "id": "C4JkktxKHItE",
        "outputId": "4fb3bf7c-2757-41ec-d105-d200d20767d0"
      },
      "source": [
        "#  Read multiple lines\n",
        "f = open(\"fileprg.txt\", \"r\") \n",
        "print (f.readlines())"
      ],
      "execution_count": null,
      "outputs": [
        {
          "output_type": "stream",
          "text": [
            "['File ProgramIntroductionThis is a sample program for file conceptsTo learn files in Python']\n"
          ],
          "name": "stdout"
        }
      ]
    },
    {
      "cell_type": "code",
      "metadata": {
        "colab": {
          "base_uri": "https://localhost:8080/"
        },
        "id": "BLGp2XrjHIk_",
        "outputId": "5cc79e01-dea3-4c32-e0a2-4d8834010f03"
      },
      "source": [
        "#  Read multiple lines using for loop\n",
        "f= open(\"fileprg.txt\", \"r\") \n",
        "for line in f: \n",
        "    print (line)"
      ],
      "execution_count": null,
      "outputs": [
        {
          "output_type": "stream",
          "text": [
            "File ProgramIntroductionThis is a sample program for file conceptsTo learn files in Python\n"
          ],
          "name": "stdout"
        }
      ]
    },
    {
      "cell_type": "code",
      "metadata": {
        "colab": {
          "base_uri": "https://localhost:8080/"
        },
        "id": "vnMylBU5HIcZ",
        "outputId": "66eb283c-60a3-4327-af96-54d2549244bf"
      },
      "source": [
        "# To Append a file\n",
        "f = open(\"fileprg.txt\", \"a\") \n",
        "f.write(\"append will add at add at the end of file\") \n",
        "f.close\n",
        "f = open(\"fileprg.txt\", \"r\") \n",
        "print (f.read() )\n",
        "f.close() "
      ],
      "execution_count": null,
      "outputs": [
        {
          "output_type": "stream",
          "text": [
            "File ProgramIntroductionThis is a sample program for file conceptsTo learn files in Pythonappend will add at add at the end of file\n"
          ],
          "name": "stdout"
        }
      ]
    },
    {
      "cell_type": "code",
      "metadata": {
        "colab": {
          "base_uri": "https://localhost:8080/"
        },
        "id": "4uBxqsj9HIUA",
        "outputId": "d7828d6b-498e-4bb2-d58e-8dcb20a17a6e"
      },
      "source": [
        "# with statement\n",
        "with open(\"fileprg.txt\") as f:  \n",
        "  data = f.read() \n",
        "print(data)"
      ],
      "execution_count": null,
      "outputs": [
        {
          "output_type": "stream",
          "text": [
            "File ProgramIntroductionThis is a sample program for file conceptsTo learn files in Pythonappend will add at add at the end of file\n"
          ],
          "name": "stdout"
        }
      ]
    },
    {
      "cell_type": "code",
      "metadata": {
        "colab": {
          "base_uri": "https://localhost:8080/"
        },
        "id": "URIhaGFXHSyP",
        "outputId": "4e3d495a-8715-467d-8947-a0853fc13531"
      },
      "source": [
        "# with open and for\n",
        "with open(\"fileprg.txt\") as f: \n",
        "  for line in f: \n",
        "    print (line)"
      ],
      "execution_count": null,
      "outputs": [
        {
          "output_type": "stream",
          "text": [
            "File ProgramIntroductionThis is a sample program for file conceptsTo learn files in Pythonappend will add at add at the end of file\n"
          ],
          "name": "stdout"
        }
      ]
    },
    {
      "cell_type": "code",
      "metadata": {
        "colab": {
          "base_uri": "https://localhost:8080/"
        },
        "id": "NXSTOOMgHSpW",
        "outputId": "1fc2c9a4-c431-4b65-9148-41bb8e37bfb3"
      },
      "source": [
        "# Splitting Lines in a Text File\n",
        "with open(\"fileprg.txt\", \"r\") as f:\n",
        " data = f.readlines()\n",
        "for line in data:\n",
        "   words = line.split()\n",
        "print (words)"
      ],
      "execution_count": null,
      "outputs": [
        {
          "output_type": "stream",
          "text": [
            "['File', 'ProgramIntroductionThis', 'is', 'a', 'sample', 'program', 'for', 'file', 'conceptsTo', 'learn', 'files', 'in', 'Pythonappend', 'will', 'add', 'at', 'add', 'at', 'the', 'end', 'of', 'file']\n"
          ],
          "name": "stdout"
        }
      ]
    },
    {
      "cell_type": "markdown",
      "metadata": {
        "id": "MM-EDWTRHWpR"
      },
      "source": [
        "**EXCEL FILE PROCESSING**"
      ]
    },
    {
      "cell_type": "code",
      "metadata": {
        "id": "0mmFwsiUHShB"
      },
      "source": [
        "# Import pandas\n",
        "import pandas as pd\n",
        "\n",
        "# Assign spreadsheet filename to `file`\n",
        "file = 'Cust_data1.xlsx'"
      ],
      "execution_count": null,
      "outputs": []
    },
    {
      "cell_type": "code",
      "metadata": {
        "id": "vh6yMe7NHSYx"
      },
      "source": [
        "# Load spreadsheet\n",
        "xl = pd.ExcelFile(file)"
      ],
      "execution_count": null,
      "outputs": []
    },
    {
      "cell_type": "code",
      "metadata": {
        "colab": {
          "base_uri": "https://localhost:8080/"
        },
        "id": "BgfpzdM1Hgkt",
        "outputId": "e65a0389-07af-444e-a535-7b391a1ca0c8"
      },
      "source": [
        "# Print the sheet names\n",
        "print(xl.sheet_names)"
      ],
      "execution_count": null,
      "outputs": [
        {
          "output_type": "stream",
          "text": [
            "['Sheet1']\n"
          ],
          "name": "stdout"
        }
      ]
    },
    {
      "cell_type": "code",
      "metadata": {
        "colab": {
          "base_uri": "https://localhost:8080/"
        },
        "id": "hGubxcOBHgaO",
        "outputId": "f78c429a-4c73-411b-8c4c-d3918732c442"
      },
      "source": [
        "# Load a sheet into a DataFrame by name: df1\n",
        "df1 = xl.parse()\n",
        "print(df1)"
      ],
      "execution_count": null,
      "outputs": [
        {
          "output_type": "stream",
          "text": [
            "    Customer_Number     Category  Quantity\n",
            "0                 1         Mask        20\n",
            "1                 1    Sanitizer        12\n",
            "2                 2    Sanitizer        14\n",
            "3                 3       Gloves        30\n",
            "4                 2         Mask        15\n",
            "5                 3         Mask        22\n",
            "6                 1          PPE        40\n",
            "7                 2  Face Shield        13\n",
            "8                 3    Sanitizer        11\n",
            "9                 3   Remdesiver        19\n",
            "10                2  Paracetamol        55\n",
            "11                1    Vit_Tab A        71\n",
            "12                1   Remdesiver        60\n",
            "13                2  Paracetamol        12\n",
            "14                3    Vit_Tab A        19\n"
          ],
          "name": "stdout"
        }
      ]
    },
    {
      "cell_type": "code",
      "metadata": {
        "id": "GuSY7cUCHgN4"
      },
      "source": [
        "#CSV file processing\n",
        "# Import pandas\n",
        "import pandas as pd"
      ],
      "execution_count": null,
      "outputs": []
    },
    {
      "cell_type": "code",
      "metadata": {
        "colab": {
          "base_uri": "https://localhost:8080/"
        },
        "id": "cq_nUdmRHoT5",
        "outputId": "e3f1ea38-93c3-4bad-943e-6ddf94a85d01"
      },
      "source": [
        "# Load csv\n",
        "df = pd.read_csv(\"LungCapData.csv\")\n",
        "print(df)"
      ],
      "execution_count": null,
      "outputs": [
        {
          "output_type": "stream",
          "text": [
            "     Age  Height Smoke  Gender Caesarean  LungCap\n",
            "0      6    62.1    no    male        no    6.475\n",
            "1     18    74.7   yes  female        no   10.125\n",
            "2     16    69.7    no  female       yes    9.550\n",
            "3     14    71.0    no    male        no   11.125\n",
            "4      5    56.9    no    male        no    4.800\n",
            "..   ...     ...   ...     ...       ...      ...\n",
            "720    9    56.0    no  female        no    5.725\n",
            "721   18    72.0   yes    male       yes    9.050\n",
            "722   11    60.5   yes  female        no    3.850\n",
            "723   15    64.9    no  female        no    9.825\n",
            "724   10    67.7    no    male        no    7.100\n",
            "\n",
            "[725 rows x 6 columns]\n"
          ],
          "name": "stdout"
        }
      ]
    }
  ]
}